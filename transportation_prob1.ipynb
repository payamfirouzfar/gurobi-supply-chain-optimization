{
 "cells": [
  {
   "cell_type": "markdown",
   "metadata": {},
   "source": [
    "- <font style =\"color:purple;font-size:20px;\">Gurobipy for resource allocation </font>\n",
    "\n",
    "- <font color = \"black\" >Two factories <font color = \"purple\">$ F1 $ , $ F2 $ </font> with supplies <font color = \"purple\">100 , 200 </font>units resp.</font>\n",
    "- <font color = \"black\" >Three shops <font color = \"purple\">$ S1 $ , $ S2 $ , $S3$ </font> with demands <font color = \"purple\">50 , 100 , 150 </font>units resp.</font>\n",
    "- <font color = \"black\" >Shipping cost per unit:</font>\n",
    "\n",
    "<table style=\"width:50%\" >\n",
    "  <tr>\n",
    "    <th style=\"color: purple ; font-family:verdana ;text-align:center;\"></th>\n",
    "    <th style=\"color: purple ; font-family:verdana ;text-align:center;\">$S1$</th>\n",
    "    <th style=\"color: purple ; font-family:verdana ;text-align:center;\">$S2$</th> \n",
    "    <th style=\"color: purple ; font-family:verdana ;text-align:center;\">$S3$</th>\n",
    "  </tr>\n",
    "     <tr>\n",
    "    <td style=\"color: purple ; font-family:verdana ;text-align:center;\">$F1$</td>\n",
    "    <td style=\"color: purple ; font-family:verdana ;text-align:center;\">10</td>\n",
    "    <td style=\"color: purple ; font-family:verdana ;text-align:center;\">12</td> \n",
    "    <td style=\"color: purple ; font-family:verdana ;text-align:center;\">14</td>\n",
    "  </tr>\n",
    "     <tr>\n",
    "    <td style=\"color: purple ; font-family:verdana ;text-align:center;\">$F2$</td>\n",
    "    <td style=\"color: purple ; font-family:verdana ;text-align:center;\">11</td>\n",
    "    <td style=\"color: purple ; font-family:verdana ;text-align:center;\">12</td> \n",
    "    <td style=\"color: purple ; font-family:verdana ;text-align:center;\">13</td>\n",
    "  </tr>\n",
    "    \n"
   ]
  },
  {
   "cell_type": "markdown",
   "metadata": {},
   "source": [
    "- $x_{ij}$- Number of units to ship from factory $i$ to shop $j$\n",
    "- objective : minimize shipping cost\n",
    "$$\\begin{align}min \\quad 10x_{11} + 12x_{12} + 14x_{13} + 11x_{21} + 12x_{22} + 13x_{23} \\end{align}$$\n",
    "- Supply constraints:\n",
    "$$\\begin{align}\n",
    "F1 : x_{11} + x_{12} + x_{13} \\leq 100 \\\\\n",
    "F2 : x_{21} + x_{22} + x_{23} \\leq 200 \\end{align}$$\n",
    "- Demand constraints:\n",
    "$$\\begin{align}\n",
    "S1 : x_{11} + x_{21}  \\geq 50 \\\\\n",
    "S2 : x_{12} + x_{22}  \\geq 100 \\\\\n",
    "S3 : x_{13} + x_{23}  \\geq 150 \\\\\n",
    "\\end{align}$$\n",
    "- Nonnegetivivty constraints:can not ship negetive amount of units\n",
    "$$\\begin{align}x_{11} + x_{12} + x_{13} + x_{21} + x_{22} + x_{23} \\geq 0 \\end{align}$$"
   ]
  },
  {
   "cell_type": "code",
   "execution_count": 1,
   "metadata": {},
   "outputs": [],
   "source": [
    "from gurobipy import *\n",
    "import numpy as np"
   ]
  },
  {
   "cell_type": "code",
   "execution_count": 2,
   "metadata": {},
   "outputs": [],
   "source": [
    "F = [1, 2]\n",
    "S = [1, 2 , 3]"
   ]
  },
  {
   "cell_type": "code",
   "execution_count": 3,
   "metadata": {},
   "outputs": [],
   "source": [
    "# comb is x11 ,x12 ,x13 , ... \n",
    "# ms is the multipliers of x11--->(F1 , S1)=10\n",
    "comb , ms = multidict({(1 , 1):10,\n",
    "                      (1 ,  2):12,\n",
    "                      (1, 3):14,\n",
    "                      (2, 1):11,\n",
    "                      (2 , 2):12,\n",
    "                      (2, 3):13})\n",
    "\n",
    "constr = [100, 200, -50, -100, -150]"
   ]
  },
  {
   "cell_type": "code",
   "execution_count": 4,
   "metadata": {},
   "outputs": [
    {
     "name": "stdout",
     "output_type": "stream",
     "text": [
      "Restricted license - for non-production use only - expires 2022-01-13\n"
     ]
    }
   ],
   "source": [
    "m = Model(\"Transportation\")"
   ]
  },
  {
   "cell_type": "code",
   "execution_count": 5,
   "metadata": {},
   "outputs": [
    {
     "data": {
      "text/plain": [
       "{(1, 1): <gurobi.Var C0>,\n",
       " (1, 2): <gurobi.Var C1>,\n",
       " (1, 3): <gurobi.Var C2>,\n",
       " (2, 1): <gurobi.Var C3>,\n",
       " (2, 2): <gurobi.Var C4>,\n",
       " (2, 3): <gurobi.Var C5>}"
      ]
     },
     "execution_count": 5,
     "metadata": {},
     "output_type": "execute_result"
    }
   ],
   "source": [
    "x = m.addVars(comb)\n",
    "m.update()\n",
    "x"
   ]
  },
  {
   "cell_type": "raw",
   "metadata": {},
   "source": [
    "some points:\n",
    "x = m.addVars([(1,2), (1,3), (2,3)])\n",
    "expr = x.sum()       # LinExpr: x[1,2] + x[1,3] + x[2,3]\n",
    "expr = x.sum(1, '*') # LinExpr: x[1,2] + x[1,3]\n",
    "expr = x.sum('*', 3) # LinExpr: x[1,3] + x[2,3]\n",
    "expr = x.sum(1, 3)   # LinExpr: x[1,3]\n",
    "  "
   ]
  },
  {
   "cell_type": "code",
   "execution_count": 6,
   "metadata": {},
   "outputs": [
    {
     "data": {
      "text/plain": [
       "{2: <gurobi.Constr *Awaiting Model Update*>}"
      ]
     },
     "execution_count": 6,
     "metadata": {},
     "output_type": "execute_result"
    }
   ],
   "source": [
    "m.addConstrs(x.sum(i,\"*\")<=100 for i in range(1,2) )  \n",
    "m.addConstrs(x.sum(j,\"*\")<=200 for j in range(2,3) ) \n"
   ]
  },
  {
   "cell_type": "code",
   "execution_count": 7,
   "metadata": {},
   "outputs": [
    {
     "data": {
      "text/plain": [
       "{1: <gurobi.Constr *Awaiting Model Update*>,\n",
       " 2: <gurobi.Constr *Awaiting Model Update*>,\n",
       " 3: <gurobi.Constr *Awaiting Model Update*>}"
      ]
     },
     "execution_count": 7,
     "metadata": {},
     "output_type": "execute_result"
    }
   ],
   "source": [
    "m.addConstrs(x.sum(\"*\" , s)>=50 for s in range(1,2) )\n",
    "m.addConstrs(x.sum(\"*\" , p)>=100 for p in range(2,3) )\n",
    "m.addConstrs(x.sum(\"*\" , o)>=150 for o in range(3,4) )\n",
    "m.addConstrs(x.sum(\"*\" , f)>=0 for f in range(1,4) )"
   ]
  },
  {
   "cell_type": "code",
   "execution_count": 8,
   "metadata": {},
   "outputs": [],
   "source": [
    "m.modelSense = GRB.MINIMIZE"
   ]
  },
  {
   "cell_type": "code",
   "execution_count": 9,
   "metadata": {},
   "outputs": [],
   "source": [
    "m.setObjective(x.prod(ms))"
   ]
  },
  {
   "cell_type": "code",
   "execution_count": 10,
   "metadata": {},
   "outputs": [],
   "source": [
    "m.write(\"m.lp\")"
   ]
  },
  {
   "cell_type": "code",
   "execution_count": 11,
   "metadata": {},
   "outputs": [
    {
     "name": "stdout",
     "output_type": "stream",
     "text": [
      "Gurobi Optimizer version 9.1.2 build v9.1.2rc0 (win64)\n",
      "Thread count: 2 physical cores, 4 logical processors, using up to 4 threads\n",
      "Optimize a model with 8 rows, 6 columns and 18 nonzeros\n",
      "Model fingerprint: 0x75669f87\n",
      "Coefficient statistics:\n",
      "  Matrix range     [1e+00, 1e+00]\n",
      "  Objective range  [1e+01, 1e+01]\n",
      "  Bounds range     [0e+00, 0e+00]\n",
      "  RHS range        [5e+01, 2e+02]\n",
      "Presolve removed 3 rows and 0 columns\n",
      "Presolve time: 0.02s\n",
      "Presolved: 5 rows, 6 columns, 12 nonzeros\n",
      "\n",
      "Iteration    Objective       Primal Inf.    Dual Inf.      Time\n",
      "       0    1.9500000e+03   1.875000e+01   0.000000e+00      0s\n",
      "       3    3.6500000e+03   0.000000e+00   0.000000e+00      0s\n",
      "\n",
      "Solved in 3 iterations and 0.03 seconds\n",
      "Optimal objective  3.650000000e+03\n"
     ]
    }
   ],
   "source": [
    "m.optimize()"
   ]
  },
  {
   "cell_type": "code",
   "execution_count": 12,
   "metadata": {},
   "outputs": [
    {
     "name": "stdout",
     "output_type": "stream",
     "text": [
      "C0 50\n",
      "C1 50\n",
      "C2 0\n",
      "C3 0\n",
      "C4 50\n",
      "C5 150\n",
      "Obj: 3650\n"
     ]
    }
   ],
   "source": [
    "for v in m.getVars():\n",
    "\tprint('%s %g' % (v.varName, v.x))\n",
    "print('Obj: %g' % m.objVal)"
   ]
  }
 ],
 "metadata": {
  "kernelspec": {
   "display_name": "Python 3",
   "language": "python",
   "name": "python3"
  },
  "language_info": {
   "codemirror_mode": {
    "name": "ipython",
    "version": 3
   },
   "file_extension": ".py",
   "mimetype": "text/x-python",
   "name": "python",
   "nbconvert_exporter": "python",
   "pygments_lexer": "ipython3",
   "version": "3.6.5"
  }
 },
 "nbformat": 4,
 "nbformat_minor": 2
}
