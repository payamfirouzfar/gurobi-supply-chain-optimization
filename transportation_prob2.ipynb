{
 "cells": [
  {
   "cell_type": "markdown",
   "metadata": {},
   "source": [
    "- <font style =\"color:purple;font-size:20px;\">Gurobipy for resource allocation </font>\n",
    "\n",
    "- <font color = \"black\" >Two factories <font color = \"purple\">$ F1 $ , $ F2 $ </font> with supplies <font color = \"purple\">100 , 200 </font>units resp.</font>\n",
    "- <font color = \"black\" >Three shops <font color = \"purple\">$ S1 $ , $ S2 $ , $S3$ </font> with demands <font color = \"purple\">50 , 100 , 150 </font>units resp.</font>\n",
    "- <font color = \"black\" >Shipping cost per unit:</font>\n",
    "\n",
    "<table style=\"width:50%\" >\n",
    "  <tr>\n",
    "    <th style=\"color: purple ; font-family:verdana ;text-align:center;\"></th>\n",
    "    <th style=\"color: purple ; font-family:verdana ;text-align:center;\">$S1$</th>\n",
    "    <th style=\"color: purple ; font-family:verdana ;text-align:center;\">$S2$</th> \n",
    "    <th style=\"color: purple ; font-family:verdana ;text-align:center;\">$S3$</th>\n",
    "  </tr>\n",
    "     <tr>\n",
    "    <td style=\"color: purple ; font-family:verdana ;text-align:center;\">$F1$</td>\n",
    "    <td style=\"color: purple ; font-family:verdana ;text-align:center;\">10</td>\n",
    "    <td style=\"color: purple ; font-family:verdana ;text-align:center;\">12</td> \n",
    "    <td style=\"color: purple ; font-family:verdana ;text-align:center;\">14</td>\n",
    "  </tr>\n",
    "     <tr>\n",
    "    <td style=\"color: purple ; font-family:verdana ;text-align:center;\">$F2$</td>\n",
    "    <td style=\"color: purple ; font-family:verdana ;text-align:center;\">11</td>\n",
    "    <td style=\"color: purple ; font-family:verdana ;text-align:center;\">12</td> \n",
    "    <td style=\"color: purple ; font-family:verdana ;text-align:center;\">13</td>\n",
    "  </tr>\n",
    "    \n"
   ]
  },
  {
   "cell_type": "markdown",
   "metadata": {},
   "source": [
    "- $x_{ij}$- Number of units to ship from factory $i$ to shop $j$\n",
    "- objective : minimize shipping cost\n",
    "$$\\begin{align}min \\quad 10x_{11} + 12x_{12} + 14x_{13} + 11x_{21} + 12x_{22} + 13x_{23} \\end{align}$$\n",
    "- Supply constraints:\n",
    "$$\\begin{align}\n",
    "F1 : x_{11} + x_{12} + x_{13} \\leq 100 \\\\\n",
    "F2 : x_{21} + x_{22} + x_{23} \\leq 200 \\end{align}$$\n",
    "- Demand constraints:\n",
    "$$\\begin{align}\n",
    "S1 : x_{11} + x_{21}  \\geq 50 \\\\\n",
    "S2 : x_{12} + x_{22}  \\geq 100 \\\\\n",
    "S3 : x_{13} + x_{23}  \\geq 150 \\\\\n",
    "\\end{align}$$\n",
    "- Nonnegetivivty constraints:can not ship negetive amount of units\n",
    "$$\\begin{align}x_{11} + x_{12} + x_{13} + x_{21} + x_{22} + x_{23} \\geq 0 \\end{align}$$"
   ]
  },
  {
   "cell_type": "code",
   "execution_count": 7,
   "metadata": {},
   "outputs": [],
   "source": [
    "from gurobipy import *\n",
    "import numpy as np"
   ]
  },
  {
   "cell_type": "code",
   "execution_count": 16,
   "metadata": {},
   "outputs": [],
   "source": [
    "n=6\n",
    "G=[ [1, 1], [1, 2], [1, 3], [2, 1], [2, 2], [2, 3]]\n",
    "c=np.array([10, 12, 14, 11, 12, 13])\n",
    "rhs=[100, 200, -50, -100, -150]"
   ]
  },
  {
   "cell_type": "code",
   "execution_count": 17,
   "metadata": {},
   "outputs": [],
   "source": [
    "m = Model(\"Transportation2\")"
   ]
  },
  {
   "cell_type": "code",
   "execution_count": 18,
   "metadata": {},
   "outputs": [],
   "source": [
    "n = 6\n",
    "x=np.array([None for j in range(n)])\n",
    "for k in range(6):\n",
    "\tx[k] = m.addVar(name='x(%d)' %k )\n",
    "    \n",
    "#for c in range(6):\n",
    "#    print(x[c])"
   ]
  },
  {
   "cell_type": "code",
   "execution_count": 19,
   "metadata": {},
   "outputs": [],
   "source": [
    "m.update()"
   ]
  },
  {
   "cell_type": "code",
   "execution_count": 20,
   "metadata": {},
   "outputs": [],
   "source": [
    "m.setObjective(np.dot(c,x), GRB.MINIMIZE)"
   ]
  },
  {
   "cell_type": "code",
   "execution_count": 21,
   "metadata": {},
   "outputs": [
    {
     "data": {
      "text/plain": [
       "<gurobi.Constr *Awaiting Model Update*>"
      ]
     },
     "execution_count": 21,
     "metadata": {},
     "output_type": "execute_result"
    }
   ],
   "source": [
    "m.addConstr(x[0]+x[1]+x[2]<=100)\n",
    "m.addConstr(x[3]+x[4]+x[5]<=200)\n",
    "m.addConstr(x[0]+x[3]>=50)\n",
    "m.addConstr(x[1]+x[4]>=100)\n",
    "m.addConstr(x[2]+x[5]>=150)"
   ]
  },
  {
   "cell_type": "code",
   "execution_count": 22,
   "metadata": {},
   "outputs": [],
   "source": [
    "m.write(\"m2.lp\")"
   ]
  },
  {
   "cell_type": "code",
   "execution_count": 23,
   "metadata": {},
   "outputs": [
    {
     "name": "stdout",
     "output_type": "stream",
     "text": [
      "Gurobi Optimizer version 9.1.2 build v9.1.2rc0 (win64)\n",
      "Thread count: 2 physical cores, 4 logical processors, using up to 4 threads\n",
      "Optimize a model with 5 rows, 6 columns and 12 nonzeros\n",
      "Model fingerprint: 0x1324a672\n",
      "Coefficient statistics:\n",
      "  Matrix range     [1e+00, 1e+00]\n",
      "  Objective range  [1e+01, 1e+01]\n",
      "  Bounds range     [0e+00, 0e+00]\n",
      "  RHS range        [5e+01, 2e+02]\n",
      "Presolve time: 0.01s\n",
      "Presolved: 5 rows, 6 columns, 12 nonzeros\n",
      "\n",
      "Iteration    Objective       Primal Inf.    Dual Inf.      Time\n",
      "       0    0.0000000e+00   3.000000e+02   0.000000e+00      0s\n",
      "       4    3.6500000e+03   0.000000e+00   0.000000e+00      0s\n",
      "\n",
      "Solved in 4 iterations and 0.02 seconds\n",
      "Optimal objective  3.650000000e+03\n"
     ]
    }
   ],
   "source": [
    "m.optimize()"
   ]
  },
  {
   "cell_type": "code",
   "execution_count": 24,
   "metadata": {},
   "outputs": [
    {
     "name": "stdout",
     "output_type": "stream",
     "text": [
      "x(0) 50\n",
      "x(1) 50\n",
      "x(2) 0\n",
      "x(3) 0\n",
      "x(4) 50\n",
      "x(5) 150\n",
      "Obj: 3650\n"
     ]
    }
   ],
   "source": [
    "for v in m.getVars():\n",
    "\tprint('%s %g' % (v.varName, v.x))\n",
    "print('Obj: %g' % m.objVal)"
   ]
  }
 ],
 "metadata": {
  "kernelspec": {
   "display_name": "Python 3",
   "language": "python",
   "name": "python3"
  },
  "language_info": {
   "codemirror_mode": {
    "name": "ipython",
    "version": 3
   },
   "file_extension": ".py",
   "mimetype": "text/x-python",
   "name": "python",
   "nbconvert_exporter": "python",
   "pygments_lexer": "ipython3",
   "version": "3.6.5"
  }
 },
 "nbformat": 4,
 "nbformat_minor": 2
}
