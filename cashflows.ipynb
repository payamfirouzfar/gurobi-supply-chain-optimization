{
 "cells": [
  {
   "cell_type": "markdown",
   "metadata": {},
   "source": [
    "- <font style =\"color:purple;font-size:20px;\">Gurobipy for Cashflows </font>\n",
    "\n",
    "- <font color = \"black\" >There are four options to invest in the next 3 years <font color = \"purple\"> $X1$ , $X2$ , $X3$ , $X4$ </font> which are dollar invested in each year.</font>\n",
    "- <font color = \"black\" > <font color = \"purple\">$ Y1 $ , $ Y2 $ , $Y3$ </font> cash available at the end of each year.</font>\n",
    "- <font color = \"black\" >objective : $max$ $Y3$</font>\n",
    "\n",
    "- constraints:\n",
    "\n",
    "$$\\begin{align}\n",
    "x_{1} + x_{2} + x_{4} = 100 \\\\\n",
    "Y_{1} = 0.1  x_{1} + 0.2 x_{2} + 1.02  x_{4} \\\\\n",
    "x_{3} \\leq  Y_{1} \\\\\n",
    "Y_{2} = 1.1  x_{2} + 1.02 (Y_{1} - x_{3}) \\\\\n",
    "Y_{3} = 1.02  Y_{2} + 1.3 x_{1} + 1.5  x_{3} \\\\\n",
    "x_{1} ,x_{2} , x_{3} , x_{4} \\geq 0\n",
    "\\end{align}$$\n",
    "\n",
    "    "
   ]
  },
  {
   "cell_type": "code",
   "execution_count": 1,
   "metadata": {},
   "outputs": [],
   "source": [
    "import sys\n",
    "from gurobipy import *\n",
    "import numpy as np"
   ]
  },
  {
   "cell_type": "code",
   "execution_count": 2,
   "metadata": {},
   "outputs": [],
   "source": [
    "c = [0, 0, 0, 0, 0, 0, 1]\n",
    "A = [[1, 1, 0, 1, 0, 0, 0], \n",
    "     [0.1, 0.2, 0, 1.02, -1, 0, 0],\n",
    "     [0, 0, 1, 0, -1, 0, 0],\n",
    "     [0, 1.1, -1.02, 0, 1.02, -1, 0],#------>> 0*x1 + 1.1*x2 - 1.02*x3 + 0*x4 + 1.02*Y1 - 1*Y2 + 0*Y3 \n",
    "     [1.3, 0, 1.5, 0, 0, 1.02, -1]]\n",
    "rhs=[100, 0, 0, 0, 0]\n",
    "sense = [GRB.LESS_EQUAL, GRB.EQUAL, GRB.LESS_EQUAL, GRB.EQUAL, GRB.EQUAL]#------->>Above matrix row's sign"
   ]
  },
  {
   "cell_type": "code",
   "execution_count": 3,
   "metadata": {},
   "outputs": [
    {
     "name": "stdout",
     "output_type": "stream",
     "text": [
      "Restricted license - for non-production use only - expires 2022-01-13\n"
     ]
    }
   ],
   "source": [
    "n=Model(\"CF\")"
   ]
  },
  {
   "cell_type": "code",
   "execution_count": 4,
   "metadata": {},
   "outputs": [],
   "source": [
    "x=np.array([None for j in range(7)])\n",
    "for i in range(7):\n",
    "\tx[i]=n.addVar(name='x[%i]'%i)\n",
    "n.update()\n"
   ]
  },
  {
   "cell_type": "code",
   "execution_count": 5,
   "metadata": {},
   "outputs": [],
   "source": [
    "n.setObjective(np.dot(c,x),GRB.MAXIMIZE)"
   ]
  },
  {
   "cell_type": "code",
   "execution_count": 6,
   "metadata": {},
   "outputs": [],
   "source": [
    "for i in range(5):\n",
    "\tn.addConstr(np.dot(A[i],x),sense[i],rhs[i])\n"
   ]
  },
  {
   "cell_type": "code",
   "execution_count": 7,
   "metadata": {},
   "outputs": [
    {
     "name": "stdout",
     "output_type": "stream",
     "text": [
      "Gurobi Optimizer version 9.1.2 build v9.1.2rc0 (win64)\n",
      "Thread count: 2 physical cores, 4 logical processors, using up to 4 threads\n",
      "Optimize a model with 5 rows, 7 columns and 17 nonzeros\n",
      "Model fingerprint: 0x5dcb1d55\n",
      "Coefficient statistics:\n",
      "  Matrix range     [1e-01, 2e+00]\n",
      "  Objective range  [1e+00, 1e+00]\n",
      "  Bounds range     [0e+00, 0e+00]\n",
      "  RHS range        [1e+02, 1e+02]\n",
      "Presolve removed 2 rows and 2 columns\n",
      "Presolve time: 0.15s\n",
      "Presolved: 3 rows, 5 columns, 12 nonzeros\n",
      "\n",
      "Iteration    Objective       Primal Inf.    Dual Inf.      Time\n",
      "       0    5.7811415e+02   8.941520e+01   0.000000e+00      0s\n",
      "       6    1.5300000e+02   0.000000e+00   0.000000e+00      0s\n",
      "\n",
      "Solved in 6 iterations and 0.24 seconds\n",
      "Optimal objective  1.530000000e+02\n"
     ]
    }
   ],
   "source": [
    "n.optimize()"
   ]
  },
  {
   "cell_type": "code",
   "execution_count": 8,
   "metadata": {},
   "outputs": [
    {
     "name": "stdout",
     "output_type": "stream",
     "text": [
      "0.0\n",
      "0.0\n",
      "102.0\n",
      "100.0\n",
      "102.0\n",
      "0.0\n",
      "153.0\n"
     ]
    }
   ],
   "source": [
    "for i in range(7):\n",
    "        x[i]=n.getVars()[i].x\n",
    "        print(x[i])"
   ]
  }
 ],
 "metadata": {
  "kernelspec": {
   "display_name": "Python 3",
   "language": "python",
   "name": "python3"
  },
  "language_info": {
   "codemirror_mode": {
    "name": "ipython",
    "version": 3
   },
   "file_extension": ".py",
   "mimetype": "text/x-python",
   "name": "python",
   "nbconvert_exporter": "python",
   "pygments_lexer": "ipython3",
   "version": "3.6.5"
  }
 },
 "nbformat": 4,
 "nbformat_minor": 2
}
